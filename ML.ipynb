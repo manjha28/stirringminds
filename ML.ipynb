{
 "cells": [
  {
   "cell_type": "markdown",
   "metadata": {},
   "source": [
    "## Problem ML4"
   ]
  },
  {
   "cell_type": "markdown",
   "metadata": {},
   "source": [
    "#### Assumed variables provided in datasets"
   ]
  },
  {
   "cell_type": "markdown",
   "metadata": {},
   "source": [
    "##### student's area of interest, highest level of education,gender,preffered locations, money willing to spend and preffered career choices"
   ]
  },
  {
   "cell_type": "markdown",
   "metadata": {},
   "source": [
    "#### Career choices classification"
   ]
  },
  {
   "cell_type": "markdown",
   "metadata": {},
   "source": [
    "The most important variable for a carrer guidance system would be student's area of interest, highest level of education,gender,preffered locations, money willing to spend and preffered career choices.\n",
    "\n",
    "To build a system which could help students in getting an idea about their career choices would definitely require the above mentioned variables to be most appropriate.\n",
    "\n",
    "A classification system could be built using naive bayes or deeplearning which can predict the preffered career choice on the basis of training dataset on dependent variables like student's area of interest, highest level of education,gender,preffered locations, money willing to spend to give a set of career choices to the students.\n"
   ]
  },
  {
   "cell_type": "code",
   "execution_count": null,
   "metadata": {},
   "outputs": [],
   "source": []
  }
 ],
 "metadata": {
  "kernelspec": {
   "display_name": "Python 3",
   "language": "python",
   "name": "python3"
  },
  "language_info": {
   "codemirror_mode": {
    "name": "ipython",
    "version": 3
   },
   "file_extension": ".py",
   "mimetype": "text/x-python",
   "name": "python",
   "nbconvert_exporter": "python",
   "pygments_lexer": "ipython3",
   "version": "3.8.2"
  }
 },
 "nbformat": 4,
 "nbformat_minor": 2
}
