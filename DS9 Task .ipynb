{
 "cells": [
  {
   "cell_type": "code",
   "execution_count": 3,
   "metadata": {
    "scrolled": true
   },
   "outputs": [
    {
     "data": {
      "text/html": [
       "<div>\n",
       "<style scoped>\n",
       "    .dataframe tbody tr th:only-of-type {\n",
       "        vertical-align: middle;\n",
       "    }\n",
       "\n",
       "    .dataframe tbody tr th {\n",
       "        vertical-align: top;\n",
       "    }\n",
       "\n",
       "    .dataframe thead th {\n",
       "        text-align: right;\n",
       "    }\n",
       "</style>\n",
       "<table border=\"1\" class=\"dataframe\">\n",
       "  <thead>\n",
       "    <tr style=\"text-align: right;\">\n",
       "      <th></th>\n",
       "      <th>Id</th>\n",
       "      <th>SepalLengthCm</th>\n",
       "      <th>SepalWidthCm</th>\n",
       "      <th>PetalLengthCm</th>\n",
       "      <th>PetalWidthCm</th>\n",
       "      <th>Species</th>\n",
       "    </tr>\n",
       "  </thead>\n",
       "  <tbody>\n",
       "    <tr>\n",
       "      <td>0</td>\n",
       "      <td>1</td>\n",
       "      <td>5.1</td>\n",
       "      <td>3.5</td>\n",
       "      <td>1.4</td>\n",
       "      <td>0.2</td>\n",
       "      <td>Iris-setosa</td>\n",
       "    </tr>\n",
       "    <tr>\n",
       "      <td>1</td>\n",
       "      <td>2</td>\n",
       "      <td>4.9</td>\n",
       "      <td>3.0</td>\n",
       "      <td>1.4</td>\n",
       "      <td>0.2</td>\n",
       "      <td>Iris-setosa</td>\n",
       "    </tr>\n",
       "    <tr>\n",
       "      <td>2</td>\n",
       "      <td>3</td>\n",
       "      <td>4.7</td>\n",
       "      <td>3.2</td>\n",
       "      <td>1.3</td>\n",
       "      <td>0.2</td>\n",
       "      <td>Iris-setosa</td>\n",
       "    </tr>\n",
       "    <tr>\n",
       "      <td>3</td>\n",
       "      <td>4</td>\n",
       "      <td>4.6</td>\n",
       "      <td>3.1</td>\n",
       "      <td>1.5</td>\n",
       "      <td>0.2</td>\n",
       "      <td>Iris-setosa</td>\n",
       "    </tr>\n",
       "    <tr>\n",
       "      <td>4</td>\n",
       "      <td>5</td>\n",
       "      <td>5.0</td>\n",
       "      <td>3.6</td>\n",
       "      <td>1.4</td>\n",
       "      <td>0.2</td>\n",
       "      <td>Iris-setosa</td>\n",
       "    </tr>\n",
       "    <tr>\n",
       "      <td>...</td>\n",
       "      <td>...</td>\n",
       "      <td>...</td>\n",
       "      <td>...</td>\n",
       "      <td>...</td>\n",
       "      <td>...</td>\n",
       "      <td>...</td>\n",
       "    </tr>\n",
       "    <tr>\n",
       "      <td>145</td>\n",
       "      <td>146</td>\n",
       "      <td>6.7</td>\n",
       "      <td>3.0</td>\n",
       "      <td>5.2</td>\n",
       "      <td>2.3</td>\n",
       "      <td>Iris-virginica</td>\n",
       "    </tr>\n",
       "    <tr>\n",
       "      <td>146</td>\n",
       "      <td>147</td>\n",
       "      <td>6.3</td>\n",
       "      <td>2.5</td>\n",
       "      <td>5.0</td>\n",
       "      <td>1.9</td>\n",
       "      <td>Iris-virginica</td>\n",
       "    </tr>\n",
       "    <tr>\n",
       "      <td>147</td>\n",
       "      <td>148</td>\n",
       "      <td>6.5</td>\n",
       "      <td>3.0</td>\n",
       "      <td>5.2</td>\n",
       "      <td>2.0</td>\n",
       "      <td>Iris-virginica</td>\n",
       "    </tr>\n",
       "    <tr>\n",
       "      <td>148</td>\n",
       "      <td>149</td>\n",
       "      <td>6.2</td>\n",
       "      <td>3.4</td>\n",
       "      <td>5.4</td>\n",
       "      <td>2.3</td>\n",
       "      <td>Iris-virginica</td>\n",
       "    </tr>\n",
       "    <tr>\n",
       "      <td>149</td>\n",
       "      <td>150</td>\n",
       "      <td>5.9</td>\n",
       "      <td>3.0</td>\n",
       "      <td>5.1</td>\n",
       "      <td>1.8</td>\n",
       "      <td>Iris-virginica</td>\n",
       "    </tr>\n",
       "  </tbody>\n",
       "</table>\n",
       "<p>150 rows × 6 columns</p>\n",
       "</div>"
      ],
      "text/plain": [
       "      Id  SepalLengthCm  SepalWidthCm  PetalLengthCm  PetalWidthCm  \\\n",
       "0      1            5.1           3.5            1.4           0.2   \n",
       "1      2            4.9           3.0            1.4           0.2   \n",
       "2      3            4.7           3.2            1.3           0.2   \n",
       "3      4            4.6           3.1            1.5           0.2   \n",
       "4      5            5.0           3.6            1.4           0.2   \n",
       "..   ...            ...           ...            ...           ...   \n",
       "145  146            6.7           3.0            5.2           2.3   \n",
       "146  147            6.3           2.5            5.0           1.9   \n",
       "147  148            6.5           3.0            5.2           2.0   \n",
       "148  149            6.2           3.4            5.4           2.3   \n",
       "149  150            5.9           3.0            5.1           1.8   \n",
       "\n",
       "            Species  \n",
       "0       Iris-setosa  \n",
       "1       Iris-setosa  \n",
       "2       Iris-setosa  \n",
       "3       Iris-setosa  \n",
       "4       Iris-setosa  \n",
       "..              ...  \n",
       "145  Iris-virginica  \n",
       "146  Iris-virginica  \n",
       "147  Iris-virginica  \n",
       "148  Iris-virginica  \n",
       "149  Iris-virginica  \n",
       "\n",
       "[150 rows x 6 columns]"
      ]
     },
     "execution_count": 3,
     "metadata": {},
     "output_type": "execute_result"
    }
   ],
   "source": [
    "import pandas as pd\n",
    "import matplotlib.pylab as plt\n",
    "filename = r\"C:\\Users\\manis\\Downloads\\iris.csv\"\n",
    "\n",
    "df = pd.read_csv(filename)\n",
    "df\n"
   ]
  },
  {
   "cell_type": "code",
   "execution_count": 18,
   "metadata": {},
   "outputs": [],
   "source": [
    "from sklearn.model_selection import train_test_split\n",
    "\n",
    "train, test = train_test_split(df, test_size=0.2)\n",
    "\n",
    "train_x = train.drop(columns = ['Species'],axis=1)\n",
    "train_y = train['Species']\n",
    "\n",
    "test_x = test.drop(columns = ['Species'],axis = 1)\n",
    "test_y = test['Species']"
   ]
  },
  {
   "cell_type": "code",
   "execution_count": 30,
   "metadata": {},
   "outputs": [
    {
     "data": {
      "text/plain": [
       "(      Id  SepalLengthCm  SepalWidthCm  PetalLengthCm  PetalWidthCm\n",
       " 85    86            6.0           3.4            4.5           1.6\n",
       " 46    47            5.1           3.8            1.6           0.2\n",
       " 149  150            5.9           3.0            5.1           1.8\n",
       " 34    35            4.9           3.1            1.5           0.1\n",
       " 125  126            7.2           3.2            6.0           1.8\n",
       " ..   ...            ...           ...            ...           ...\n",
       " 87    88            6.3           2.3            4.4           1.3\n",
       " 13    14            4.3           3.0            1.1           0.1\n",
       " 126  127            6.2           2.8            4.8           1.8\n",
       " 100  101            6.3           3.3            6.0           2.5\n",
       " 3      4            4.6           3.1            1.5           0.2\n",
       " \n",
       " [120 rows x 5 columns], 85     Iris-versicolor\n",
       " 46         Iris-setosa\n",
       " 149     Iris-virginica\n",
       " 34         Iris-setosa\n",
       " 125     Iris-virginica\n",
       "             ...       \n",
       " 87     Iris-versicolor\n",
       " 13         Iris-setosa\n",
       " 126     Iris-virginica\n",
       " 100     Iris-virginica\n",
       " 3          Iris-setosa\n",
       " Name: Species, Length: 120, dtype: object)"
      ]
     },
     "execution_count": 30,
     "metadata": {},
     "output_type": "execute_result"
    }
   ],
   "source": [
    "train_x,train_y"
   ]
  },
  {
   "cell_type": "code",
   "execution_count": 32,
   "metadata": {},
   "outputs": [
    {
     "data": {
      "text/plain": [
       "(      Id  SepalLengthCm  SepalWidthCm  PetalLengthCm  PetalWidthCm\n",
       " 7      8            5.0           3.4            1.5           0.2\n",
       " 96    97            5.7           2.9            4.2           1.3\n",
       " 141  142            6.9           3.1            5.1           2.3\n",
       " 69    70            5.6           2.5            3.9           1.1\n",
       " 20    21            5.4           3.4            1.7           0.2\n",
       " 63    64            6.1           2.9            4.7           1.4\n",
       " 9     10            4.9           3.1            1.5           0.1\n",
       " 134  135            6.1           2.6            5.6           1.4\n",
       " 138  139            6.0           3.0            4.8           1.8\n",
       " 31    32            5.4           3.4            1.5           0.4\n",
       " 4      5            5.0           3.6            1.4           0.2\n",
       " 43    44            5.0           3.5            1.6           0.6\n",
       " 108  109            6.7           2.5            5.8           1.8\n",
       " 52    53            6.9           3.1            4.9           1.5\n",
       " 12    13            4.8           3.0            1.4           0.1\n",
       " 2      3            4.7           3.2            1.3           0.2\n",
       " 78    79            6.0           2.9            4.5           1.5\n",
       " 74    75            6.4           2.9            4.3           1.3\n",
       " 123  124            6.3           2.7            4.9           1.8\n",
       " 102  103            7.1           3.0            5.9           2.1\n",
       " 50    51            7.0           3.2            4.7           1.4\n",
       " 22    23            4.6           3.6            1.0           0.2\n",
       " 36    37            5.5           3.5            1.3           0.2\n",
       " 23    24            5.1           3.3            1.7           0.5\n",
       " 146  147            6.3           2.5            5.0           1.9\n",
       " 115  116            6.4           3.2            5.3           2.3\n",
       " 104  105            6.5           3.0            5.8           2.2\n",
       " 29    30            4.7           3.2            1.6           0.2\n",
       " 64    65            5.6           2.9            3.6           1.3\n",
       " 18    19            5.7           3.8            1.7           0.3,\n",
       " 7          Iris-setosa\n",
       " 96     Iris-versicolor\n",
       " 141     Iris-virginica\n",
       " 69     Iris-versicolor\n",
       " 20         Iris-setosa\n",
       " 63     Iris-versicolor\n",
       " 9          Iris-setosa\n",
       " 134     Iris-virginica\n",
       " 138     Iris-virginica\n",
       " 31         Iris-setosa\n",
       " 4          Iris-setosa\n",
       " 43         Iris-setosa\n",
       " 108     Iris-virginica\n",
       " 52     Iris-versicolor\n",
       " 12         Iris-setosa\n",
       " 2          Iris-setosa\n",
       " 78     Iris-versicolor\n",
       " 74     Iris-versicolor\n",
       " 123     Iris-virginica\n",
       " 102     Iris-virginica\n",
       " 50     Iris-versicolor\n",
       " 22         Iris-setosa\n",
       " 36         Iris-setosa\n",
       " 23         Iris-setosa\n",
       " 146     Iris-virginica\n",
       " 115     Iris-virginica\n",
       " 104     Iris-virginica\n",
       " 29         Iris-setosa\n",
       " 64     Iris-versicolor\n",
       " 18         Iris-setosa\n",
       " Name: Species, dtype: object)"
      ]
     },
     "execution_count": 32,
     "metadata": {},
     "output_type": "execute_result"
    }
   ],
   "source": [
    "test_x,test_y"
   ]
  },
  {
   "cell_type": "code",
   "execution_count": 29,
   "metadata": {},
   "outputs": [
    {
     "data": {
      "text/plain": [
       "GaussianNB(priors=None, var_smoothing=1e-09)"
      ]
     },
     "execution_count": 29,
     "metadata": {},
     "output_type": "execute_result"
    }
   ],
   "source": [
    "import pandas as pd\n",
    "from sklearn.naive_bayes import GaussianNB\n",
    "from sklearn.metrics import accuracy_score\n",
    "\n",
    "model = GaussianNB()\n",
    "\n",
    "model.fit(train_x,train_y)"
   ]
  },
  {
   "cell_type": "code",
   "execution_count": 38,
   "metadata": {},
   "outputs": [
    {
     "data": {
      "text/plain": [
       "array(['Iris-setosa', 'Iris-versicolor', 'Iris-virginica',\n",
       "       'Iris-versicolor', 'Iris-setosa', 'Iris-versicolor', 'Iris-setosa',\n",
       "       'Iris-virginica', 'Iris-virginica', 'Iris-setosa', 'Iris-setosa',\n",
       "       'Iris-setosa', 'Iris-virginica', 'Iris-versicolor', 'Iris-setosa',\n",
       "       'Iris-setosa', 'Iris-versicolor', 'Iris-versicolor',\n",
       "       'Iris-virginica', 'Iris-virginica', 'Iris-versicolor',\n",
       "       'Iris-setosa', 'Iris-setosa', 'Iris-setosa', 'Iris-virginica',\n",
       "       'Iris-virginica', 'Iris-virginica', 'Iris-setosa',\n",
       "       'Iris-versicolor', 'Iris-setosa'], dtype='<U15')"
      ]
     },
     "execution_count": 38,
     "metadata": {},
     "output_type": "execute_result"
    }
   ],
   "source": [
    "predict_test = model.predict(test_x)\n",
    "predict_test"
   ]
  },
  {
   "cell_type": "code",
   "execution_count": 36,
   "metadata": {},
   "outputs": [
    {
     "data": {
      "text/plain": [
       "(array([13.,  0.,  0.,  0.,  0.,  8.,  0.,  0.,  0.,  9.]),\n",
       " array([0. , 0.2, 0.4, 0.6, 0.8, 1. , 1.2, 1.4, 1.6, 1.8, 2. ]),\n",
       " <a list of 10 Patch objects>)"
      ]
     },
     "execution_count": 36,
     "metadata": {},
     "output_type": "execute_result"
    },
    {
     "data": {
      "image/png": "[encoded data removed]",
      "text/plain": [
       "<Figure size 432x288 with 1 Axes>"
      ]
     },
     "metadata": {
      "needs_background": "light"
     },
     "output_type": "display_data"
    }
   ],
   "source": [
    "import matplotlib.pyplot as plt\n",
    "plt.hist(test_y)"
   ]
  },
  {
   "cell_type": "code",
   "execution_count": 26,
   "metadata": {},
   "outputs": [
    {
     "name": "stdout",
     "output_type": "stream",
     "text": [
      "accuracy_score on test dataset :  1.0\n"
     ]
    }
   ],
   "source": [
    "accuracy_test = accuracy_score(test_y,predict_test)\n",
    "print('accuracy_score on test dataset : ', accuracy_test)"
   ]
  },
  {
   "cell_type": "code",
   "execution_count": null,
   "metadata": {},
   "outputs": [],
   "source": []
  },
  {
   "cell_type": "code",
   "execution_count": null,
   "metadata": {},
   "outputs": [],
   "source": []
  },
  {
   "cell_type": "code",
   "execution_count": null,
   "metadata": {},
   "outputs": [],
   "source": []
  }
 ],
 "metadata": {
  "kernelspec": {
   "display_name": "Python 3",
   "language": "python",
   "name": "python3"
  },
  "language_info": {
   "codemirror_mode": {
    "name": "ipython",
    "version": 3
   },
   "file_extension": ".py",
   "mimetype": "text/x-python",
   "name": "python",
   "nbconvert_exporter": "python",
   "pygments_lexer": "ipython3",
   "version": "3.7.4"
  }
 },
 "nbformat": 4,
 "nbformat_minor": 2
}
